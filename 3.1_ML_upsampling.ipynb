{
 "cells": [
  {
   "cell_type": "markdown",
   "id": "d7e9e915",
   "metadata": {},
   "source": [
    "## Import libraries"
   ]
  },
  {
   "cell_type": "code",
   "execution_count": 1,
   "id": "a5bed5ba",
   "metadata": {},
   "outputs": [],
   "source": [
    "import pandas as pd\n",
    "import numpy as np\n",
    "import warnings\n",
    "import matplotlib.pyplot as plt\n",
    "import seaborn as sns\n",
    "import scipy.stats as stats\n",
    "from imblearn.over_sampling import SMOTE\n",
    "from sklearn.model_selection import train_test_split\n",
    "from sklearn.linear_model import LogisticRegression\n",
    "from sklearn.metrics import confusion_matrix\n",
    "from sklearn.preprocessing import StandardScaler\n",
    "from sklearn.neighbors import KNeighborsClassifier\n",
    "from sklearn.ensemble import RandomForestClassifier\n",
    "from sklearn import metrics\n",
    "from sklearn.preprocessing import OneHotEncoder\n",
    "from sklearn.metrics import classification_report\n",
    "from sklearn.metrics import plot_confusion_matrix\n",
    "from sklearn.tree import DecisionTreeClassifier\n",
    "from sklearn.model_selection import train_test_split\n",
    "import pickle\n",
    "from function_data_processing import *\n",
    "from function_ML import *\n",
    "\n",
    "\n",
    "\n",
    "pd.set_option('display.max_columns', None)\n",
    "warnings.filterwarnings('ignore')"
   ]
  },
  {
   "cell_type": "markdown",
   "id": "36950c73",
   "metadata": {},
   "source": [
    "## Load data"
   ]
  },
  {
   "cell_type": "code",
   "execution_count": 2,
   "id": "6b7d8ece",
   "metadata": {
    "scrolled": true
   },
   "outputs": [
    {
     "data": {
      "text/html": [
       "<div>\n",
       "<style scoped>\n",
       "    .dataframe tbody tr th:only-of-type {\n",
       "        vertical-align: middle;\n",
       "    }\n",
       "\n",
       "    .dataframe tbody tr th {\n",
       "        vertical-align: top;\n",
       "    }\n",
       "\n",
       "    .dataframe thead th {\n",
       "        text-align: right;\n",
       "    }\n",
       "</style>\n",
       "<table border=\"1\" class=\"dataframe\">\n",
       "  <thead>\n",
       "    <tr style=\"text-align: right;\">\n",
       "      <th></th>\n",
       "      <th>baseline_value</th>\n",
       "      <th>accelerations</th>\n",
       "      <th>fetal_movement</th>\n",
       "      <th>uterine_contractions</th>\n",
       "      <th>light_decelerations</th>\n",
       "      <th>abnormal_short_term_variability</th>\n",
       "      <th>mean_value_of_short_term_variability</th>\n",
       "      <th>percentage_of_time_with_abnormal_long_term_variability</th>\n",
       "      <th>mean_value_of_long_term_variability</th>\n",
       "      <th>histogram_width</th>\n",
       "      <th>histogram_max</th>\n",
       "      <th>histogram_number_of_peaks</th>\n",
       "      <th>histogram_mode</th>\n",
       "      <th>histogram_variance</th>\n",
       "      <th>fetal_health</th>\n",
       "    </tr>\n",
       "  </thead>\n",
       "  <tbody>\n",
       "    <tr>\n",
       "      <th>0</th>\n",
       "      <td>71.611347</td>\n",
       "      <td>-1.833548</td>\n",
       "      <td>-3.904537</td>\n",
       "      <td>-1.363542</td>\n",
       "      <td>-1.677820</td>\n",
       "      <td>37.264136</td>\n",
       "      <td>-1.698371</td>\n",
       "      <td>7.49855</td>\n",
       "      <td>-0.229605</td>\n",
       "      <td>15.008226</td>\n",
       "      <td>1.339407</td>\n",
       "      <td>0.752864</td>\n",
       "      <td>53149.942412</td>\n",
       "      <td>4.672702</td>\n",
       "      <td>B</td>\n",
       "    </tr>\n",
       "    <tr>\n",
       "      <th>1</th>\n",
       "      <td>77.866926</td>\n",
       "      <td>-1.833548</td>\n",
       "      <td>-3.904537</td>\n",
       "      <td>-1.363542</td>\n",
       "      <td>-1.694483</td>\n",
       "      <td>10.777798</td>\n",
       "      <td>-1.698371</td>\n",
       "      <td>7.49855</td>\n",
       "      <td>-0.229605</td>\n",
       "      <td>22.632791</td>\n",
       "      <td>1.339612</td>\n",
       "      <td>2.228554</td>\n",
       "      <td>53149.942412</td>\n",
       "      <td>2.610067</td>\n",
       "      <td>A</td>\n",
       "    </tr>\n",
       "    <tr>\n",
       "      <th>2</th>\n",
       "      <td>78.384675</td>\n",
       "      <td>-1.833548</td>\n",
       "      <td>-3.904537</td>\n",
       "      <td>-1.363542</td>\n",
       "      <td>-1.694483</td>\n",
       "      <td>10.209278</td>\n",
       "      <td>-1.698371</td>\n",
       "      <td>7.49855</td>\n",
       "      <td>-0.229605</td>\n",
       "      <td>22.632791</td>\n",
       "      <td>1.339612</td>\n",
       "      <td>1.956520</td>\n",
       "      <td>53149.942412</td>\n",
       "      <td>2.698445</td>\n",
       "      <td>A</td>\n",
       "    </tr>\n",
       "    <tr>\n",
       "      <th>3</th>\n",
       "      <td>78.901899</td>\n",
       "      <td>-1.833548</td>\n",
       "      <td>-3.904537</td>\n",
       "      <td>-1.363542</td>\n",
       "      <td>-1.694483</td>\n",
       "      <td>10.209278</td>\n",
       "      <td>-1.698371</td>\n",
       "      <td>7.49855</td>\n",
       "      <td>-0.229605</td>\n",
       "      <td>21.312087</td>\n",
       "      <td>1.339612</td>\n",
       "      <td>3.221597</td>\n",
       "      <td>53149.942412</td>\n",
       "      <td>2.698445</td>\n",
       "      <td>A</td>\n",
       "    </tr>\n",
       "    <tr>\n",
       "      <th>4</th>\n",
       "      <td>77.866926</td>\n",
       "      <td>-1.833548</td>\n",
       "      <td>-3.904537</td>\n",
       "      <td>-1.363542</td>\n",
       "      <td>-1.677820</td>\n",
       "      <td>10.209278</td>\n",
       "      <td>-1.698371</td>\n",
       "      <td>7.49855</td>\n",
       "      <td>-0.229605</td>\n",
       "      <td>21.312087</td>\n",
       "      <td>1.339612</td>\n",
       "      <td>2.877034</td>\n",
       "      <td>53149.942412</td>\n",
       "      <td>2.514309</td>\n",
       "      <td>A</td>\n",
       "    </tr>\n",
       "    <tr>\n",
       "      <th>...</th>\n",
       "      <td>...</td>\n",
       "      <td>...</td>\n",
       "      <td>...</td>\n",
       "      <td>...</td>\n",
       "      <td>...</td>\n",
       "      <td>...</td>\n",
       "      <td>...</td>\n",
       "      <td>...</td>\n",
       "      <td>...</td>\n",
       "      <td>...</td>\n",
       "      <td>...</td>\n",
       "      <td>...</td>\n",
       "      <td>...</td>\n",
       "      <td>...</td>\n",
       "      <td>...</td>\n",
       "    </tr>\n",
       "    <tr>\n",
       "      <th>2108</th>\n",
       "      <td>81.994480</td>\n",
       "      <td>-1.833548</td>\n",
       "      <td>-3.904537</td>\n",
       "      <td>-1.363542</td>\n",
       "      <td>-1.677820</td>\n",
       "      <td>39.771841</td>\n",
       "      <td>-1.698371</td>\n",
       "      <td>7.49855</td>\n",
       "      <td>-0.229605</td>\n",
       "      <td>11.309256</td>\n",
       "      <td>1.339612</td>\n",
       "      <td>1.639072</td>\n",
       "      <td>53149.942412</td>\n",
       "      <td>0.702658</td>\n",
       "      <td>B</td>\n",
       "    </tr>\n",
       "    <tr>\n",
       "      <th>2109</th>\n",
       "      <td>81.994480</td>\n",
       "      <td>-1.850304</td>\n",
       "      <td>-3.904537</td>\n",
       "      <td>-1.363542</td>\n",
       "      <td>-1.677820</td>\n",
       "      <td>39.356632</td>\n",
       "      <td>-1.698371</td>\n",
       "      <td>7.49855</td>\n",
       "      <td>-0.229605</td>\n",
       "      <td>15.283736</td>\n",
       "      <td>1.339612</td>\n",
       "      <td>2.228554</td>\n",
       "      <td>53149.942412</td>\n",
       "      <td>1.122632</td>\n",
       "      <td>B</td>\n",
       "    </tr>\n",
       "    <tr>\n",
       "      <th>2110</th>\n",
       "      <td>81.994480</td>\n",
       "      <td>-1.850304</td>\n",
       "      <td>-3.904537</td>\n",
       "      <td>-1.363542</td>\n",
       "      <td>-1.677820</td>\n",
       "      <td>39.771841</td>\n",
       "      <td>-1.698371</td>\n",
       "      <td>7.49855</td>\n",
       "      <td>-0.229605</td>\n",
       "      <td>15.420003</td>\n",
       "      <td>1.339612</td>\n",
       "      <td>1.956520</td>\n",
       "      <td>53149.942412</td>\n",
       "      <td>1.424686</td>\n",
       "      <td>B</td>\n",
       "    </tr>\n",
       "    <tr>\n",
       "      <th>2111</th>\n",
       "      <td>81.994480</td>\n",
       "      <td>-1.850304</td>\n",
       "      <td>-3.904537</td>\n",
       "      <td>-1.363542</td>\n",
       "      <td>-1.677820</td>\n",
       "      <td>39.356632</td>\n",
       "      <td>-1.698371</td>\n",
       "      <td>7.49855</td>\n",
       "      <td>-0.229605</td>\n",
       "      <td>15.283736</td>\n",
       "      <td>1.339612</td>\n",
       "      <td>2.228554</td>\n",
       "      <td>53149.942412</td>\n",
       "      <td>1.424686</td>\n",
       "      <td>B</td>\n",
       "    </tr>\n",
       "    <tr>\n",
       "      <th>2112</th>\n",
       "      <td>83.021340</td>\n",
       "      <td>-1.833548</td>\n",
       "      <td>-3.904537</td>\n",
       "      <td>-1.363542</td>\n",
       "      <td>-1.677820</td>\n",
       "      <td>37.684887</td>\n",
       "      <td>-1.698371</td>\n",
       "      <td>7.49855</td>\n",
       "      <td>-0.229605</td>\n",
       "      <td>11.652175</td>\n",
       "      <td>1.339612</td>\n",
       "      <td>0.752864</td>\n",
       "      <td>53149.942412</td>\n",
       "      <td>0.000000</td>\n",
       "      <td>A</td>\n",
       "    </tr>\n",
       "  </tbody>\n",
       "</table>\n",
       "<p>2113 rows × 15 columns</p>\n",
       "</div>"
      ],
      "text/plain": [
       "      baseline_value  accelerations  fetal_movement  uterine_contractions  \\\n",
       "0          71.611347      -1.833548       -3.904537             -1.363542   \n",
       "1          77.866926      -1.833548       -3.904537             -1.363542   \n",
       "2          78.384675      -1.833548       -3.904537             -1.363542   \n",
       "3          78.901899      -1.833548       -3.904537             -1.363542   \n",
       "4          77.866926      -1.833548       -3.904537             -1.363542   \n",
       "...              ...            ...             ...                   ...   \n",
       "2108       81.994480      -1.833548       -3.904537             -1.363542   \n",
       "2109       81.994480      -1.850304       -3.904537             -1.363542   \n",
       "2110       81.994480      -1.850304       -3.904537             -1.363542   \n",
       "2111       81.994480      -1.850304       -3.904537             -1.363542   \n",
       "2112       83.021340      -1.833548       -3.904537             -1.363542   \n",
       "\n",
       "      light_decelerations  abnormal_short_term_variability  \\\n",
       "0               -1.677820                        37.264136   \n",
       "1               -1.694483                        10.777798   \n",
       "2               -1.694483                        10.209278   \n",
       "3               -1.694483                        10.209278   \n",
       "4               -1.677820                        10.209278   \n",
       "...                   ...                              ...   \n",
       "2108            -1.677820                        39.771841   \n",
       "2109            -1.677820                        39.356632   \n",
       "2110            -1.677820                        39.771841   \n",
       "2111            -1.677820                        39.356632   \n",
       "2112            -1.677820                        37.684887   \n",
       "\n",
       "      mean_value_of_short_term_variability  \\\n",
       "0                                -1.698371   \n",
       "1                                -1.698371   \n",
       "2                                -1.698371   \n",
       "3                                -1.698371   \n",
       "4                                -1.698371   \n",
       "...                                    ...   \n",
       "2108                             -1.698371   \n",
       "2109                             -1.698371   \n",
       "2110                             -1.698371   \n",
       "2111                             -1.698371   \n",
       "2112                             -1.698371   \n",
       "\n",
       "      percentage_of_time_with_abnormal_long_term_variability  \\\n",
       "0                                               7.49855        \n",
       "1                                               7.49855        \n",
       "2                                               7.49855        \n",
       "3                                               7.49855        \n",
       "4                                               7.49855        \n",
       "...                                                 ...        \n",
       "2108                                            7.49855        \n",
       "2109                                            7.49855        \n",
       "2110                                            7.49855        \n",
       "2111                                            7.49855        \n",
       "2112                                            7.49855        \n",
       "\n",
       "      mean_value_of_long_term_variability  histogram_width  histogram_max  \\\n",
       "0                               -0.229605        15.008226       1.339407   \n",
       "1                               -0.229605        22.632791       1.339612   \n",
       "2                               -0.229605        22.632791       1.339612   \n",
       "3                               -0.229605        21.312087       1.339612   \n",
       "4                               -0.229605        21.312087       1.339612   \n",
       "...                                   ...              ...            ...   \n",
       "2108                            -0.229605        11.309256       1.339612   \n",
       "2109                            -0.229605        15.283736       1.339612   \n",
       "2110                            -0.229605        15.420003       1.339612   \n",
       "2111                            -0.229605        15.283736       1.339612   \n",
       "2112                            -0.229605        11.652175       1.339612   \n",
       "\n",
       "      histogram_number_of_peaks  histogram_mode  histogram_variance  \\\n",
       "0                      0.752864    53149.942412            4.672702   \n",
       "1                      2.228554    53149.942412            2.610067   \n",
       "2                      1.956520    53149.942412            2.698445   \n",
       "3                      3.221597    53149.942412            2.698445   \n",
       "4                      2.877034    53149.942412            2.514309   \n",
       "...                         ...             ...                 ...   \n",
       "2108                   1.639072    53149.942412            0.702658   \n",
       "2109                   2.228554    53149.942412            1.122632   \n",
       "2110                   1.956520    53149.942412            1.424686   \n",
       "2111                   2.228554    53149.942412            1.424686   \n",
       "2112                   0.752864    53149.942412            0.000000   \n",
       "\n",
       "     fetal_health  \n",
       "0               B  \n",
       "1               A  \n",
       "2               A  \n",
       "3               A  \n",
       "4               A  \n",
       "...           ...  \n",
       "2108            B  \n",
       "2109            B  \n",
       "2110            B  \n",
       "2111            B  \n",
       "2112            A  \n",
       "\n",
       "[2113 rows x 15 columns]"
      ]
     },
     "execution_count": 2,
     "metadata": {},
     "output_type": "execute_result"
    }
   ],
   "source": [
    "data1 = pd.read_csv('/Users/yuriawano/fetal_health_classification/data/fetal_health_modeling.csv')\n",
    "data1"
   ]
  },
  {
   "cell_type": "code",
   "execution_count": null,
   "id": "3c160e47",
   "metadata": {},
   "outputs": [],
   "source": []
  },
  {
   "cell_type": "markdown",
   "id": "be4773ac",
   "metadata": {},
   "source": [
    "## Scaling the imbalanced data: Upsampling"
   ]
  },
  {
   "cell_type": "markdown",
   "id": "e70bde35",
   "metadata": {},
   "source": []
  },
  {
   "cell_type": "code",
   "execution_count": 3,
   "id": "9ebb7708",
   "metadata": {},
   "outputs": [
    {
     "data": {
      "text/plain": [
       "A    1646\n",
       "B     292\n",
       "C     175\n",
       "Name: fetal_health, dtype: int64"
      ]
     },
     "execution_count": 3,
     "metadata": {},
     "output_type": "execute_result"
    }
   ],
   "source": [
    "data1['fetal_health'].value_counts()"
   ]
  },
  {
   "cell_type": "code",
   "execution_count": 4,
   "id": "334ef705",
   "metadata": {},
   "outputs": [],
   "source": [
    "A = data1[data1['fetal_health'] == 'A'].sample(1600) # needs the replace because it has less than 400 rows\n",
    "B = data1[data1['fetal_health'] == 'B'].sample(1600, replace=True)\n",
    "C = data1[data1['fetal_health'] == 'C'].sample(1600, replace=True)\n",
    "\n",
    "upsample_df = pd.concat([A, B, C]).sample(frac=1) # .sample(frac=1) here is just to shuffle the dataframe\n"
   ]
  },
  {
   "cell_type": "code",
   "execution_count": 5,
   "id": "771dfc28",
   "metadata": {},
   "outputs": [
    {
     "data": {
      "text/plain": [
       "(4800, 15)"
      ]
     },
     "execution_count": 5,
     "metadata": {},
     "output_type": "execute_result"
    }
   ],
   "source": [
    "upsample_df.shape"
   ]
  },
  {
   "cell_type": "code",
   "execution_count": 6,
   "id": "bdf1d78e",
   "metadata": {
    "scrolled": true
   },
   "outputs": [
    {
     "data": {
      "text/plain": [
       "C    1600\n",
       "B    1600\n",
       "A    1600\n",
       "Name: fetal_health, dtype: int64"
      ]
     },
     "execution_count": 6,
     "metadata": {},
     "output_type": "execute_result"
    }
   ],
   "source": [
    "upsample_df['fetal_health'].value_counts()"
   ]
  },
  {
   "cell_type": "code",
   "execution_count": null,
   "id": "0c13e895",
   "metadata": {},
   "outputs": [],
   "source": []
  },
  {
   "cell_type": "markdown",
   "id": "293a6f2b",
   "metadata": {},
   "source": [
    "## Train the model"
   ]
  },
  {
   "cell_type": "code",
   "execution_count": 7,
   "id": "0e696958",
   "metadata": {},
   "outputs": [],
   "source": [
    "X_up = upsample_df.drop('fetal_health', axis = 1)\n",
    "y_up = upsample_df['fetal_health']"
   ]
  },
  {
   "cell_type": "code",
   "execution_count": null,
   "id": "348541a5",
   "metadata": {},
   "outputs": [],
   "source": []
  },
  {
   "cell_type": "code",
   "execution_count": 8,
   "id": "6e101091",
   "metadata": {},
   "outputs": [],
   "source": [
    "X_train, X_test, y_train, y_test = train_test_split(X_up, y_up, test_size=0.2, random_state=42)"
   ]
  },
  {
   "cell_type": "code",
   "execution_count": null,
   "id": "10e5c9bd",
   "metadata": {},
   "outputs": [],
   "source": []
  },
  {
   "cell_type": "markdown",
   "id": "464a2731",
   "metadata": {},
   "source": [
    "### Scaling the numericals and save the transformation file"
   ]
  },
  {
   "cell_type": "code",
   "execution_count": 9,
   "id": "5ba26eff",
   "metadata": {},
   "outputs": [],
   "source": [
    "transformer = StandardScaler().fit(X_train)\n",
    "x_standardized = transformer.transform(X_train)\n",
    "# saving in a pickle\n",
    "#with open('X_train_transformer.pickle', 'wb') as file:\n",
    " #   pickle.dump(transformer, file)\n",
    "    \n",
    "# loading from a pickle  \n",
    "#with open('X_train_transformer.pickle', 'rb') as file:\n",
    " #   loaded_transformer = pickle.load(file)\n",
    "\n",
    "#X_train = loaded_transformer.transform(X_train)\n"
   ]
  },
  {
   "cell_type": "code",
   "execution_count": 10,
   "id": "5c8a8619",
   "metadata": {},
   "outputs": [],
   "source": [
    "transformer = StandardScaler().fit(X_test)\n",
    "x_standardized = transformer.transform(X_test)"
   ]
  },
  {
   "cell_type": "code",
   "execution_count": 11,
   "id": "2f672a34",
   "metadata": {},
   "outputs": [
    {
     "data": {
      "text/plain": [
       "((3840, 14), (960, 14))"
      ]
     },
     "execution_count": 11,
     "metadata": {},
     "output_type": "execute_result"
    }
   ],
   "source": [
    "X_train.shape, X_test.shape"
   ]
  },
  {
   "cell_type": "markdown",
   "id": "ddae4e10",
   "metadata": {},
   "source": [
    "## Model evaluation of upsampling metrix\n",
    "Here we will test on Logistic Regression, KNN and Random Forest\n",
    "\n",
    "### Logistic regression"
   ]
  },
  {
   "cell_type": "code",
   "execution_count": null,
   "id": "eaa52fa9",
   "metadata": {},
   "outputs": [],
   "source": []
  },
  {
   "cell_type": "code",
   "execution_count": 12,
   "id": "b34471f7",
   "metadata": {},
   "outputs": [],
   "source": [
    "def model_comparison(X, y, K_value):\n",
    "    \n",
    "    print('Comparison 1. Logistic regression')\n",
    "    # Logistic regression: accuracy score\n",
    "    classification = LogisticRegression(random_state=42, max_iter=10000)\n",
    "    classification.fit(X, y)\n",
    "    \n",
    "    print('1) Logistic regression score:', classification.score(X_test, y_test))\n",
    "    \n",
    "    # Confusion metrix\n",
    "    print('2) Confustion metrix:')\n",
    "    predictions = classification.predict(X_test)\n",
    "    print(confusion_matrix(y_test, predictions))\n",
    "    \n",
    "    # Plot confusion metrix\n",
    "    print('3) Confustion metrix plot: see bottom plot')\n",
    "    cf_matrix = confusion_matrix(y_test, predictions)\n",
    "    group_names = ['True A', 'False A', 'False A',\n",
    "               'False B', 'True B', 'False B',\n",
    "               'False C', 'False C', 'True C']\n",
    "\n",
    "    group_counts = [\"{0:0.0f}\".format(value) for value in cf_matrix.flatten()]\n",
    "    group_percentages = [\"{0:.2%}\".format(value) for value in cf_matrix.flatten()/np.sum(cf_matrix)]\n",
    "    labels = [f\"{v1}\\n{v2}\\n{v3}\" for v1, v2, v3 in zip(group_names,group_counts,group_percentages)]\n",
    "    labels = np.asarray(labels).reshape(3,3)\n",
    "    print(sns.heatmap(cf_matrix, annot=labels, fmt='', cmap='Blues'))\n",
    "    \n",
    "    print('4) Classification report:')\n",
    "    print(classification_report(y_test, classification.predict(X_test)))\n",
    "    \n",
    "    \n",
    "    print('Comparison 2. KNN Classifier')\n",
    "    model = KNeighborsClassifier(n_neighbors= K_value)\n",
    "    model.fit(X, y)\n",
    "    \n",
    "    print('1) KNN Classifier accuracy score:')\n",
    "    y_pred = model.predict(X_test)\n",
    "    print(metrics.accuracy_score(y_test, y_pred))\n",
    "    \n",
    "    print('2) Confusion metrix:')\n",
    "    predictions_knn = model.predict(X_test)\n",
    "    confusion_matrix(y_test, predictions_knn)\n",
    "    \n",
    "    \n",
    "    print('3) Classification report') \n",
    "    print(classification_report(y_test, model.predict(X_test)))\n",
    "    \n",
    "    print('3) Comparison 3. Decision Tree')\n",
    "    model = DecisionTreeClassifier()\n",
    "    model.fit(X_train, y_train)\n",
    "    print(model.score(X_test, y_test))\n",
    "    \n",
    "    \n",
    "    \n"
   ]
  },
  {
   "cell_type": "code",
   "execution_count": 13,
   "id": "12558d89",
   "metadata": {
    "scrolled": true
   },
   "outputs": [
    {
     "name": "stdout",
     "output_type": "stream",
     "text": [
      "Comparison 1. Logistic regression\n",
      "1) Logistic regression score: 0.6625\n",
      "2) Confustion metrix:\n",
      "[[219  50  40]\n",
      " [ 34 213  76]\n",
      " [ 31  93 204]]\n",
      "3) Confustion metrix plot: see bottom plot\n",
      "AxesSubplot(0.125,0.125;0.62x0.755)\n",
      "4) Classification report:\n",
      "              precision    recall  f1-score   support\n",
      "\n",
      "           A       0.77      0.71      0.74       309\n",
      "           B       0.60      0.66      0.63       323\n",
      "           C       0.64      0.62      0.63       328\n",
      "\n",
      "    accuracy                           0.66       960\n",
      "   macro avg       0.67      0.66      0.67       960\n",
      "weighted avg       0.67      0.66      0.66       960\n",
      "\n",
      "Comparison 2. KNN Classifier\n",
      "1) KNN Classifier accuracy score:\n",
      "0.903125\n",
      "2) Confusion metrix:\n",
      "3) Classification report\n",
      "              precision    recall  f1-score   support\n",
      "\n",
      "           A       0.93      0.81      0.87       309\n",
      "           B       0.87      0.90      0.88       323\n",
      "           C       0.92      0.99      0.95       328\n",
      "\n",
      "    accuracy                           0.90       960\n",
      "   macro avg       0.90      0.90      0.90       960\n",
      "weighted avg       0.90      0.90      0.90       960\n",
      "\n",
      "3) Comparison 3. Decision Tree\n",
      "0.971875\n"
     ]
    },
    {
     "data": {
      "image/png": "[encoded data removed]",
      "text/plain": [
       "<Figure size 432x288 with 2 Axes>"
      ]
     },
     "metadata": {
      "needs_background": "light"
     },
     "output_type": "display_data"
    }
   ],
   "source": [
    "model_comparison(X_up, y_up, 15)"
   ]
  },
  {
   "cell_type": "markdown",
   "id": "5cef5c43",
   "metadata": {},
   "source": [
    "### KNN-Algorithm"
   ]
  },
  {
   "cell_type": "markdown",
   "id": "4c59bfde",
   "metadata": {},
   "source": [
    "#### Hyperparatemer: find the perfect K value"
   ]
  },
  {
   "cell_type": "code",
   "execution_count": 14,
   "id": "8013fa00",
   "metadata": {},
   "outputs": [
    {
     "data": {
      "text/plain": [
       "[0.9989583333333333,\n",
       " 0.984375,\n",
       " 0.96875,\n",
       " 0.9552083333333333,\n",
       " 0.9333333333333333,\n",
       " 0.9166666666666666,\n",
       " 0.9041666666666667,\n",
       " 0.903125,\n",
       " 0.8895833333333333,\n",
       " 0.8895833333333333]"
      ]
     },
     "execution_count": 14,
     "metadata": {},
     "output_type": "execute_result"
    }
   ],
   "source": [
    "scores = []\n",
    "for i in range(1,20,2):\n",
    "    model = KNeighborsClassifier(n_neighbors=i)\n",
    "    model.fit(X_up, y_up)\n",
    "    y_pred = model.predict(X_test)\n",
    "    scores.append((metrics.accuracy_score(y_test, y_pred)))\n",
    "scores"
   ]
  },
  {
   "cell_type": "code",
   "execution_count": 15,
   "id": "7b5f6fe2",
   "metadata": {
    "scrolled": true
   },
   "outputs": [
    {
     "data": {
      "text/plain": [
       "Text(0, 0.5, 'Accuracy')"
      ]
     },
     "execution_count": 15,
     "metadata": {},
     "output_type": "execute_result"
    },
    {
     "data": {
      "image/png": "[encoded data removed]",
      "text/plain": [
       "<Figure size 1152x576 with 1 Axes>"
      ]
     },
     "metadata": {
      "needs_background": "light"
     },
     "output_type": "display_data"
    }
   ],
   "source": [
    "plt.figure(figsize=(16,8))\n",
    "plt.plot(range(1,20,2),scores,color = 'blue', linestyle='dashed',\n",
    "         marker='o', markerfacecolor='red', markersize=10)\n",
    "plt.title('accuracy scores vs. K Value')\n",
    "plt.xlabel('K')\n",
    "plt.ylabel('Accuracy')"
   ]
  },
  {
   "cell_type": "code",
   "execution_count": 16,
   "id": "5851a9d3",
   "metadata": {},
   "outputs": [],
   "source": [
    "def model_knn_classifier(X, y, K_value):\n",
    "    model = KNeighborsClassifier(n_neighbors= K_value)\n",
    "    model.fit(X, y)\n",
    "    \n",
    "    print('1) KNN Classifier accuracy score:')\n",
    "    y_pred = model.predict(X_test)\n",
    "    print(metrics.accuracy_score(y_test, y_pred))\n",
    "    \n",
    "    print('2) Confusion metrix:')\n",
    "    predictions_knn = model.predict(X_test)\n",
    "    confusion_matrix(y_test, predictions_knn)\n",
    "    \n",
    "    \n",
    "    print('3) Classification report') \n",
    "    print(classification_report(y_test, model.predict(X_test)))"
   ]
  },
  {
   "cell_type": "markdown",
   "id": "a9c58691",
   "metadata": {},
   "source": [
    "### Apply into KNN model\n",
    "Use funtion from .py file"
   ]
  },
  {
   "cell_type": "code",
   "execution_count": 17,
   "id": "fe8fc48a",
   "metadata": {},
   "outputs": [
    {
     "name": "stdout",
     "output_type": "stream",
     "text": [
      "1) KNN Classifier accuracy score:\n",
      "0.903125\n",
      "2) Confusion metrix:\n",
      "3) Classification report\n",
      "              precision    recall  f1-score   support\n",
      "\n",
      "           A       0.93      0.81      0.87       309\n",
      "           B       0.87      0.90      0.88       323\n",
      "           C       0.92      0.99      0.95       328\n",
      "\n",
      "    accuracy                           0.90       960\n",
      "   macro avg       0.90      0.90      0.90       960\n",
      "weighted avg       0.90      0.90      0.90       960\n",
      "\n"
     ]
    }
   ],
   "source": [
    "model_knn_classifier(X_up, y_up, 15)"
   ]
  },
  {
   "cell_type": "markdown",
   "id": "d9dd1551",
   "metadata": {},
   "source": [
    "### Decision Tree"
   ]
  },
  {
   "cell_type": "code",
   "execution_count": 18,
   "id": "0802c661",
   "metadata": {},
   "outputs": [],
   "source": [
    "def model_decision_tree():\n",
    "    model = DecisionTreeClassifier()\n",
    "    model.fit(X_train, y_train)\n",
    "    print(model.score(X_test, y_test))\n",
    "    "
   ]
  },
  {
   "cell_type": "code",
   "execution_count": 19,
   "id": "04cf1f9e",
   "metadata": {},
   "outputs": [],
   "source": [
    "model = DecisionTreeClassifier()\n"
   ]
  },
  {
   "cell_type": "code",
   "execution_count": 20,
   "id": "44e10ade",
   "metadata": {},
   "outputs": [
    {
     "data": {
      "text/plain": [
       "DecisionTreeClassifier()"
      ]
     },
     "execution_count": 20,
     "metadata": {},
     "output_type": "execute_result"
    }
   ],
   "source": [
    "model.fit(X_train, y_train)\n"
   ]
  },
  {
   "cell_type": "code",
   "execution_count": 21,
   "id": "fb348fe4",
   "metadata": {},
   "outputs": [
    {
     "data": {
      "text/plain": [
       "0.9697916666666667"
      ]
     },
     "execution_count": 21,
     "metadata": {},
     "output_type": "execute_result"
    }
   ],
   "source": [
    "model.score(X_test, y_test)"
   ]
  },
  {
   "cell_type": "code",
   "execution_count": 22,
   "id": "97ad50d2",
   "metadata": {
    "scrolled": true
   },
   "outputs": [
    {
     "data": {
      "text/plain": [
       "array([0.24979312, 0.00872306, 0.        , 0.        , 0.03755817,\n",
       "       0.33737289, 0.        , 0.04136333, 0.0021495 , 0.08843698,\n",
       "       0.00226895, 0.06107922, 0.        , 0.17125479])"
      ]
     },
     "execution_count": 22,
     "metadata": {},
     "output_type": "execute_result"
    }
   ],
   "source": [
    "model.feature_importances_\n"
   ]
  },
  {
   "cell_type": "code",
   "execution_count": 23,
   "id": "a0b5caed",
   "metadata": {},
   "outputs": [
    {
     "name": "stdout",
     "output_type": "stream",
     "text": [
      "0.8677083333333333\n"
     ]
    }
   ],
   "source": [
    "clf = RandomForestClassifier(max_depth = 5, random_state = 0)\n",
    "clf.fit(X_train, y_train)\n",
    "print(clf.score(X_test, y_test))"
   ]
  }
 ],
 "metadata": {
  "kernelspec": {
   "display_name": "Python 3",
   "language": "python",
   "name": "python3"
  },
  "language_info": {
   "codemirror_mode": {
    "name": "ipython",
    "version": 3
   },
   "file_extension": ".py",
   "mimetype": "text/x-python",
   "name": "python",
   "nbconvert_exporter": "python",
   "pygments_lexer": "ipython3",
   "version": "3.8.8"
  },
  "toc": {
   "base_numbering": 1,
   "nav_menu": {},
   "number_sections": true,
   "sideBar": true,
   "skip_h1_title": false,
   "title_cell": "Table of Contents",
   "title_sidebar": "Contents",
   "toc_cell": false,
   "toc_position": {
    "height": "calc(100% - 180px)",
    "left": "10px",
    "top": "150px",
    "width": "165px"
   },
   "toc_section_display": true,
   "toc_window_display": true
  }
 },
 "nbformat": 4,
 "nbformat_minor": 5
}
