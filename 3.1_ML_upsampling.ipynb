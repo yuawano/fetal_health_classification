{
 "cells": [
  {
   "cell_type": "markdown",
   "id": "d7e9e915",
   "metadata": {},
   "source": [
    "## Import libraries"
   ]
  },
  {
   "cell_type": "code",
   "execution_count": 1,
   "id": "a5bed5ba",
   "metadata": {},
   "outputs": [],
   "source": [
    "import pandas as pd\n",
    "import numpy as np\n",
    "import warnings\n",
    "import matplotlib.pyplot as plt\n",
    "import seaborn as sns\n",
    "import scipy.stats as stats\n",
    "from imblearn.over_sampling import SMOTE\n",
    "from sklearn.model_selection import train_test_split\n",
    "from sklearn.linear_model import LogisticRegression\n",
    "from sklearn.metrics import confusion_matrix\n",
    "from sklearn.preprocessing import StandardScaler\n",
    "from sklearn.neighbors import KNeighborsClassifier\n",
    "from sklearn.ensemble import RandomForestClassifier\n",
    "from sklearn import metrics\n",
    "from sklearn.preprocessing import OneHotEncoder\n",
    "from sklearn.metrics import classification_report\n",
    "from sklearn.metrics import plot_confusion_matrix\n",
    "from sklearn.tree import DecisionTreeClassifier\n",
    "from sklearn.model_selection import train_test_split\n",
    "import pickle\n",
    "from function_data_processing import *\n",
    "from function_ML import *\n",
    "\n",
    "\n",
    "\n",
    "pd.set_option('display.max_columns', None)\n",
    "warnings.filterwarnings('ignore')"
   ]
  },
  {
   "cell_type": "markdown",
   "id": "36950c73",
   "metadata": {},
   "source": [
    "## Load data"
   ]
  },
  {
   "cell_type": "code",
   "execution_count": 2,
   "id": "6b7d8ece",
   "metadata": {
    "scrolled": true
   },
   "outputs": [
    {
     "data": {
      "text/html": [
       "<div>\n",
       "<style scoped>\n",
       "    .dataframe tbody tr th:only-of-type {\n",
       "        vertical-align: middle;\n",
       "    }\n",
       "\n",
       "    .dataframe tbody tr th {\n",
       "        vertical-align: top;\n",
       "    }\n",
       "\n",
       "    .dataframe thead th {\n",
       "        text-align: right;\n",
       "    }\n",
       "</style>\n",
       "<table border=\"1\" class=\"dataframe\">\n",
       "  <thead>\n",
       "    <tr style=\"text-align: right;\">\n",
       "      <th></th>\n",
       "      <th>baseline_value</th>\n",
       "      <th>accelerations</th>\n",
       "      <th>fetal_movement</th>\n",
       "      <th>uterine_contractions</th>\n",
       "      <th>light_decelerations</th>\n",
       "      <th>abnormal_short_term_variability</th>\n",
       "      <th>mean_value_of_short_term_variability</th>\n",
       "      <th>percentage_of_time_with_abnormal_long_term_variability</th>\n",
       "      <th>mean_value_of_long_term_variability</th>\n",
       "      <th>histogram_width</th>\n",
       "      <th>histogram_max</th>\n",
       "      <th>histogram_number_of_peaks</th>\n",
       "      <th>histogram_mode</th>\n",
       "      <th>histogram_variance</th>\n",
       "      <th>fetal_health</th>\n",
       "    </tr>\n",
       "  </thead>\n",
       "  <tbody>\n",
       "    <tr>\n",
       "      <th>0</th>\n",
       "      <td>71.611347</td>\n",
       "      <td>-1.833548</td>\n",
       "      <td>-3.904537</td>\n",
       "      <td>-1.363542</td>\n",
       "      <td>-1.677820</td>\n",
       "      <td>37.264136</td>\n",
       "      <td>-1.698371</td>\n",
       "      <td>7.49855</td>\n",
       "      <td>-0.229605</td>\n",
       "      <td>15.008226</td>\n",
       "      <td>1.339407</td>\n",
       "      <td>0.752864</td>\n",
       "      <td>53149.942412</td>\n",
       "      <td>4.672702</td>\n",
       "      <td>B</td>\n",
       "    </tr>\n",
       "    <tr>\n",
       "      <th>1</th>\n",
       "      <td>77.866926</td>\n",
       "      <td>-1.833548</td>\n",
       "      <td>-3.904537</td>\n",
       "      <td>-1.363542</td>\n",
       "      <td>-1.694483</td>\n",
       "      <td>10.777798</td>\n",
       "      <td>-1.698371</td>\n",
       "      <td>7.49855</td>\n",
       "      <td>-0.229605</td>\n",
       "      <td>22.632791</td>\n",
       "      <td>1.339612</td>\n",
       "      <td>2.228554</td>\n",
       "      <td>53149.942412</td>\n",
       "      <td>2.610067</td>\n",
       "      <td>A</td>\n",
       "    </tr>\n",
       "    <tr>\n",
       "      <th>2</th>\n",
       "      <td>78.384675</td>\n",
       "      <td>-1.833548</td>\n",
       "      <td>-3.904537</td>\n",
       "      <td>-1.363542</td>\n",
       "      <td>-1.694483</td>\n",
       "      <td>10.209278</td>\n",
       "      <td>-1.698371</td>\n",
       "      <td>7.49855</td>\n",
       "      <td>-0.229605</td>\n",
       "      <td>22.632791</td>\n",
       "      <td>1.339612</td>\n",
       "      <td>1.956520</td>\n",
       "      <td>53149.942412</td>\n",
       "      <td>2.698445</td>\n",
       "      <td>A</td>\n",
       "    </tr>\n",
       "    <tr>\n",
       "      <th>3</th>\n",
       "      <td>78.901899</td>\n",
       "      <td>-1.833548</td>\n",
       "      <td>-3.904537</td>\n",
       "      <td>-1.363542</td>\n",
       "      <td>-1.694483</td>\n",
       "      <td>10.209278</td>\n",
       "      <td>-1.698371</td>\n",
       "      <td>7.49855</td>\n",
       "      <td>-0.229605</td>\n",
       "      <td>21.312087</td>\n",
       "      <td>1.339612</td>\n",
       "      <td>3.221597</td>\n",
       "      <td>53149.942412</td>\n",
       "      <td>2.698445</td>\n",
       "      <td>A</td>\n",
       "    </tr>\n",
       "    <tr>\n",
       "      <th>4</th>\n",
       "      <td>77.866926</td>\n",
       "      <td>-1.833548</td>\n",
       "      <td>-3.904537</td>\n",
       "      <td>-1.363542</td>\n",
       "      <td>-1.677820</td>\n",
       "      <td>10.209278</td>\n",
       "      <td>-1.698371</td>\n",
       "      <td>7.49855</td>\n",
       "      <td>-0.229605</td>\n",
       "      <td>21.312087</td>\n",
       "      <td>1.339612</td>\n",
       "      <td>2.877034</td>\n",
       "      <td>53149.942412</td>\n",
       "      <td>2.514309</td>\n",
       "      <td>A</td>\n",
       "    </tr>\n",
       "    <tr>\n",
       "      <th>...</th>\n",
       "      <td>...</td>\n",
       "      <td>...</td>\n",
       "      <td>...</td>\n",
       "      <td>...</td>\n",
       "      <td>...</td>\n",
       "      <td>...</td>\n",
       "      <td>...</td>\n",
       "      <td>...</td>\n",
       "      <td>...</td>\n",
       "      <td>...</td>\n",
       "      <td>...</td>\n",
       "      <td>...</td>\n",
       "      <td>...</td>\n",
       "      <td>...</td>\n",
       "      <td>...</td>\n",
       "    </tr>\n",
       "    <tr>\n",
       "      <th>2108</th>\n",
       "      <td>81.994480</td>\n",
       "      <td>-1.833548</td>\n",
       "      <td>-3.904537</td>\n",
       "      <td>-1.363542</td>\n",
       "      <td>-1.677820</td>\n",
       "      <td>39.771841</td>\n",
       "      <td>-1.698371</td>\n",
       "      <td>7.49855</td>\n",
       "      <td>-0.229605</td>\n",
       "      <td>11.309256</td>\n",
       "      <td>1.339612</td>\n",
       "      <td>1.639072</td>\n",
       "      <td>53149.942412</td>\n",
       "      <td>0.702658</td>\n",
       "      <td>B</td>\n",
       "    </tr>\n",
       "    <tr>\n",
       "      <th>2109</th>\n",
       "      <td>81.994480</td>\n",
       "      <td>-1.850304</td>\n",
       "      <td>-3.904537</td>\n",
       "      <td>-1.363542</td>\n",
       "      <td>-1.677820</td>\n",
       "      <td>39.356632</td>\n",
       "      <td>-1.698371</td>\n",
       "      <td>7.49855</td>\n",
       "      <td>-0.229605</td>\n",
       "      <td>15.283736</td>\n",
       "      <td>1.339612</td>\n",
       "      <td>2.228554</td>\n",
       "      <td>53149.942412</td>\n",
       "      <td>1.122632</td>\n",
       "      <td>B</td>\n",
       "    </tr>\n",
       "    <tr>\n",
       "      <th>2110</th>\n",
       "      <td>81.994480</td>\n",
       "      <td>-1.850304</td>\n",
       "      <td>-3.904537</td>\n",
       "      <td>-1.363542</td>\n",
       "      <td>-1.677820</td>\n",
       "      <td>39.771841</td>\n",
       "      <td>-1.698371</td>\n",
       "      <td>7.49855</td>\n",
       "      <td>-0.229605</td>\n",
       "      <td>15.420003</td>\n",
       "      <td>1.339612</td>\n",
       "      <td>1.956520</td>\n",
       "      <td>53149.942412</td>\n",
       "      <td>1.424686</td>\n",
       "      <td>B</td>\n",
       "    </tr>\n",
       "    <tr>\n",
       "      <th>2111</th>\n",
       "      <td>81.994480</td>\n",
       "      <td>-1.850304</td>\n",
       "      <td>-3.904537</td>\n",
       "      <td>-1.363542</td>\n",
       "      <td>-1.677820</td>\n",
       "      <td>39.356632</td>\n",
       "      <td>-1.698371</td>\n",
       "      <td>7.49855</td>\n",
       "      <td>-0.229605</td>\n",
       "      <td>15.283736</td>\n",
       "      <td>1.339612</td>\n",
       "      <td>2.228554</td>\n",
       "      <td>53149.942412</td>\n",
       "      <td>1.424686</td>\n",
       "      <td>B</td>\n",
       "    </tr>\n",
       "    <tr>\n",
       "      <th>2112</th>\n",
       "      <td>83.021340</td>\n",
       "      <td>-1.833548</td>\n",
       "      <td>-3.904537</td>\n",
       "      <td>-1.363542</td>\n",
       "      <td>-1.677820</td>\n",
       "      <td>37.684887</td>\n",
       "      <td>-1.698371</td>\n",
       "      <td>7.49855</td>\n",
       "      <td>-0.229605</td>\n",
       "      <td>11.652175</td>\n",
       "      <td>1.339612</td>\n",
       "      <td>0.752864</td>\n",
       "      <td>53149.942412</td>\n",
       "      <td>0.000000</td>\n",
       "      <td>A</td>\n",
       "    </tr>\n",
       "  </tbody>\n",
       "</table>\n",
       "<p>2113 rows × 15 columns</p>\n",
       "</div>"
      ],
      "text/plain": [
       "      baseline_value  accelerations  fetal_movement  uterine_contractions  \\\n",
       "0          71.611347      -1.833548       -3.904537             -1.363542   \n",
       "1          77.866926      -1.833548       -3.904537             -1.363542   \n",
       "2          78.384675      -1.833548       -3.904537             -1.363542   \n",
       "3          78.901899      -1.833548       -3.904537             -1.363542   \n",
       "4          77.866926      -1.833548       -3.904537             -1.363542   \n",
       "...              ...            ...             ...                   ...   \n",
       "2108       81.994480      -1.833548       -3.904537             -1.363542   \n",
       "2109       81.994480      -1.850304       -3.904537             -1.363542   \n",
       "2110       81.994480      -1.850304       -3.904537             -1.363542   \n",
       "2111       81.994480      -1.850304       -3.904537             -1.363542   \n",
       "2112       83.021340      -1.833548       -3.904537             -1.363542   \n",
       "\n",
       "      light_decelerations  abnormal_short_term_variability  \\\n",
       "0               -1.677820                        37.264136   \n",
       "1               -1.694483                        10.777798   \n",
       "2               -1.694483                        10.209278   \n",
       "3               -1.694483                        10.209278   \n",
       "4               -1.677820                        10.209278   \n",
       "...                   ...                              ...   \n",
       "2108            -1.677820                        39.771841   \n",
       "2109            -1.677820                        39.356632   \n",
       "2110            -1.677820                        39.771841   \n",
       "2111            -1.677820                        39.356632   \n",
       "2112            -1.677820                        37.684887   \n",
       "\n",
       "      mean_value_of_short_term_variability  \\\n",
       "0                                -1.698371   \n",
       "1                                -1.698371   \n",
       "2                                -1.698371   \n",
       "3                                -1.698371   \n",
       "4                                -1.698371   \n",
       "...                                    ...   \n",
       "2108                             -1.698371   \n",
       "2109                             -1.698371   \n",
       "2110                             -1.698371   \n",
       "2111                             -1.698371   \n",
       "2112                             -1.698371   \n",
       "\n",
       "      percentage_of_time_with_abnormal_long_term_variability  \\\n",
       "0                                               7.49855        \n",
       "1                                               7.49855        \n",
       "2                                               7.49855        \n",
       "3                                               7.49855        \n",
       "4                                               7.49855        \n",
       "...                                                 ...        \n",
       "2108                                            7.49855        \n",
       "2109                                            7.49855        \n",
       "2110                                            7.49855        \n",
       "2111                                            7.49855        \n",
       "2112                                            7.49855        \n",
       "\n",
       "      mean_value_of_long_term_variability  histogram_width  histogram_max  \\\n",
       "0                               -0.229605        15.008226       1.339407   \n",
       "1                               -0.229605        22.632791       1.339612   \n",
       "2                               -0.229605        22.632791       1.339612   \n",
       "3                               -0.229605        21.312087       1.339612   \n",
       "4                               -0.229605        21.312087       1.339612   \n",
       "...                                   ...              ...            ...   \n",
       "2108                            -0.229605        11.309256       1.339612   \n",
       "2109                            -0.229605        15.283736       1.339612   \n",
       "2110                            -0.229605        15.420003       1.339612   \n",
       "2111                            -0.229605        15.283736       1.339612   \n",
       "2112                            -0.229605        11.652175       1.339612   \n",
       "\n",
       "      histogram_number_of_peaks  histogram_mode  histogram_variance  \\\n",
       "0                      0.752864    53149.942412            4.672702   \n",
       "1                      2.228554    53149.942412            2.610067   \n",
       "2                      1.956520    53149.942412            2.698445   \n",
       "3                      3.221597    53149.942412            2.698445   \n",
       "4                      2.877034    53149.942412            2.514309   \n",
       "...                         ...             ...                 ...   \n",
       "2108                   1.639072    53149.942412            0.702658   \n",
       "2109                   2.228554    53149.942412            1.122632   \n",
       "2110                   1.956520    53149.942412            1.424686   \n",
       "2111                   2.228554    53149.942412            1.424686   \n",
       "2112                   0.752864    53149.942412            0.000000   \n",
       "\n",
       "     fetal_health  \n",
       "0               B  \n",
       "1               A  \n",
       "2               A  \n",
       "3               A  \n",
       "4               A  \n",
       "...           ...  \n",
       "2108            B  \n",
       "2109            B  \n",
       "2110            B  \n",
       "2111            B  \n",
       "2112            A  \n",
       "\n",
       "[2113 rows x 15 columns]"
      ]
     },
     "execution_count": 2,
     "metadata": {},
     "output_type": "execute_result"
    }
   ],
   "source": [
    "data1 = pd.read_csv('/Users/yuriawano/fetal_health_classification/data/fetal_health_modeling.csv')\n",
    "data1"
   ]
  },
  {
   "cell_type": "code",
   "execution_count": null,
   "id": "3c160e47",
   "metadata": {},
   "outputs": [],
   "source": []
  },
  {
   "cell_type": "markdown",
   "id": "be4773ac",
   "metadata": {},
   "source": []
  },
  {
   "cell_type": "markdown",
   "id": "e70bde35",
   "metadata": {},
   "source": []
  },
  {
   "cell_type": "code",
   "execution_count": null,
   "id": "9ebb7708",
   "metadata": {},
   "outputs": [],
   "source": []
  },
  {
   "cell_type": "code",
   "execution_count": null,
   "id": "334ef705",
   "metadata": {},
   "outputs": [],
   "source": []
  },
  {
   "cell_type": "code",
   "execution_count": null,
   "id": "771dfc28",
   "metadata": {},
   "outputs": [],
   "source": []
  },
  {
   "cell_type": "code",
   "execution_count": null,
   "id": "bdf1d78e",
   "metadata": {
    "scrolled": true
   },
   "outputs": [],
   "source": []
  },
  {
   "cell_type": "code",
   "execution_count": 3,
   "id": "0c13e895",
   "metadata": {},
   "outputs": [],
   "source": [
    "# in the real case scenario we dont have the test set (first split --> metrix only training set)\n",
    "# academic project : before the split"
   ]
  },
  {
   "cell_type": "markdown",
   "id": "293a6f2b",
   "metadata": {},
   "source": [
    "## Train the model"
   ]
  },
  {
   "cell_type": "code",
   "execution_count": 6,
   "id": "0e696958",
   "metadata": {},
   "outputs": [],
   "source": [
    "X = data1.drop('fetal_health', axis = 1)\n",
    "y  = data1['fetal_health']"
   ]
  },
  {
   "cell_type": "code",
   "execution_count": null,
   "id": "348541a5",
   "metadata": {},
   "outputs": [],
   "source": []
  },
  {
   "cell_type": "code",
   "execution_count": 7,
   "id": "6e101091",
   "metadata": {},
   "outputs": [],
   "source": [
    "X_train, X_test, y_train, y_test = train_test_split(X, y, test_size=0.2, random_state=42)"
   ]
  },
  {
   "cell_type": "code",
   "execution_count": 8,
   "id": "c37c94ef",
   "metadata": {},
   "outputs": [
    {
     "data": {
      "text/plain": [
       "((1690, 14), (423, 14), (1690,), (423,))"
      ]
     },
     "execution_count": 8,
     "metadata": {},
     "output_type": "execute_result"
    }
   ],
   "source": [
    "X_train.shape, X_test.shape, y_train.shape, y_test.shape"
   ]
  },
  {
   "cell_type": "markdown",
   "id": "c649e72a",
   "metadata": {},
   "source": [
    "## Scaling the imbalanced data: Upsampling"
   ]
  },
  {
   "cell_type": "code",
   "execution_count": 9,
   "id": "eb2f726b",
   "metadata": {},
   "outputs": [
    {
     "data": {
      "text/plain": [
       "A    1305\n",
       "B     238\n",
       "C     147\n",
       "Name: fetal_health, dtype: int64"
      ]
     },
     "execution_count": 9,
     "metadata": {},
     "output_type": "execute_result"
    }
   ],
   "source": [
    "y_train.value_counts()"
   ]
  },
  {
   "cell_type": "code",
   "execution_count": 11,
   "id": "a6ececdb",
   "metadata": {},
   "outputs": [
    {
     "data": {
      "text/html": [
       "<div>\n",
       "<style scoped>\n",
       "    .dataframe tbody tr th:only-of-type {\n",
       "        vertical-align: middle;\n",
       "    }\n",
       "\n",
       "    .dataframe tbody tr th {\n",
       "        vertical-align: top;\n",
       "    }\n",
       "\n",
       "    .dataframe thead th {\n",
       "        text-align: right;\n",
       "    }\n",
       "</style>\n",
       "<table border=\"1\" class=\"dataframe\">\n",
       "  <thead>\n",
       "    <tr style=\"text-align: right;\">\n",
       "      <th></th>\n",
       "      <th>baseline_value</th>\n",
       "      <th>accelerations</th>\n",
       "      <th>fetal_movement</th>\n",
       "      <th>uterine_contractions</th>\n",
       "      <th>light_decelerations</th>\n",
       "      <th>abnormal_short_term_variability</th>\n",
       "      <th>mean_value_of_short_term_variability</th>\n",
       "      <th>percentage_of_time_with_abnormal_long_term_variability</th>\n",
       "      <th>mean_value_of_long_term_variability</th>\n",
       "      <th>histogram_width</th>\n",
       "      <th>histogram_max</th>\n",
       "      <th>histogram_number_of_peaks</th>\n",
       "      <th>histogram_mode</th>\n",
       "      <th>histogram_variance</th>\n",
       "      <th>fetal_health</th>\n",
       "    </tr>\n",
       "  </thead>\n",
       "  <tbody>\n",
       "    <tr>\n",
       "      <th>1491</th>\n",
       "      <td>76.829840</td>\n",
       "      <td>-1.833548</td>\n",
       "      <td>-3.904537</td>\n",
       "      <td>-1.363542</td>\n",
       "      <td>-1.677820</td>\n",
       "      <td>21.615679</td>\n",
       "      <td>-1.698371</td>\n",
       "      <td>7.498550</td>\n",
       "      <td>-0.229605</td>\n",
       "      <td>13.413574</td>\n",
       "      <td>1.339612</td>\n",
       "      <td>2.228554</td>\n",
       "      <td>53149.942412</td>\n",
       "      <td>1.424686</td>\n",
       "      <td>A</td>\n",
       "    </tr>\n",
       "    <tr>\n",
       "      <th>1105</th>\n",
       "      <td>72.659587</td>\n",
       "      <td>-1.833548</td>\n",
       "      <td>-3.904537</td>\n",
       "      <td>-1.363542</td>\n",
       "      <td>-1.677820</td>\n",
       "      <td>15.637316</td>\n",
       "      <td>-1.698371</td>\n",
       "      <td>2.072439</td>\n",
       "      <td>-0.229605</td>\n",
       "      <td>9.456557</td>\n",
       "      <td>1.339612</td>\n",
       "      <td>0.000000</td>\n",
       "      <td>53149.942412</td>\n",
       "      <td>1.122632</td>\n",
       "      <td>A</td>\n",
       "    </tr>\n",
       "    <tr>\n",
       "      <th>162</th>\n",
       "      <td>72.659587</td>\n",
       "      <td>-1.833548</td>\n",
       "      <td>-3.904537</td>\n",
       "      <td>-1.363542</td>\n",
       "      <td>-1.677820</td>\n",
       "      <td>18.683316</td>\n",
       "      <td>-1.698371</td>\n",
       "      <td>5.280009</td>\n",
       "      <td>-0.229605</td>\n",
       "      <td>15.146484</td>\n",
       "      <td>1.339612</td>\n",
       "      <td>0.752864</td>\n",
       "      <td>53149.942412</td>\n",
       "      <td>1.424686</td>\n",
       "      <td>A</td>\n",
       "    </tr>\n",
       "    <tr>\n",
       "      <th>1553</th>\n",
       "      <td>84.557990</td>\n",
       "      <td>-1.833548</td>\n",
       "      <td>-3.904537</td>\n",
       "      <td>-1.363542</td>\n",
       "      <td>-1.677820</td>\n",
       "      <td>26.305597</td>\n",
       "      <td>-1.698371</td>\n",
       "      <td>0.842500</td>\n",
       "      <td>-0.229605</td>\n",
       "      <td>10.958094</td>\n",
       "      <td>1.339612</td>\n",
       "      <td>0.752864</td>\n",
       "      <td>53149.942412</td>\n",
       "      <td>0.702658</td>\n",
       "      <td>A</td>\n",
       "    </tr>\n",
       "    <tr>\n",
       "      <th>1607</th>\n",
       "      <td>83.021340</td>\n",
       "      <td>-1.833548</td>\n",
       "      <td>-3.904537</td>\n",
       "      <td>-1.363542</td>\n",
       "      <td>-1.654421</td>\n",
       "      <td>33.422585</td>\n",
       "      <td>-1.698371</td>\n",
       "      <td>7.498550</td>\n",
       "      <td>-0.746032</td>\n",
       "      <td>23.892121</td>\n",
       "      <td>1.339612</td>\n",
       "      <td>2.877034</td>\n",
       "      <td>53149.942412</td>\n",
       "      <td>4.318061</td>\n",
       "      <td>A</td>\n",
       "    </tr>\n",
       "    <tr>\n",
       "      <th>...</th>\n",
       "      <td>...</td>\n",
       "      <td>...</td>\n",
       "      <td>...</td>\n",
       "      <td>...</td>\n",
       "      <td>...</td>\n",
       "      <td>...</td>\n",
       "      <td>...</td>\n",
       "      <td>...</td>\n",
       "      <td>...</td>\n",
       "      <td>...</td>\n",
       "      <td>...</td>\n",
       "      <td>...</td>\n",
       "      <td>...</td>\n",
       "      <td>...</td>\n",
       "      <td>...</td>\n",
       "    </tr>\n",
       "    <tr>\n",
       "      <th>1638</th>\n",
       "      <td>77.866926</td>\n",
       "      <td>-1.833548</td>\n",
       "      <td>-3.904537</td>\n",
       "      <td>-1.363542</td>\n",
       "      <td>-1.623717</td>\n",
       "      <td>29.915487</td>\n",
       "      <td>-1.698371</td>\n",
       "      <td>7.498550</td>\n",
       "      <td>-0.229605</td>\n",
       "      <td>21.207673</td>\n",
       "      <td>1.339612</td>\n",
       "      <td>1.956520</td>\n",
       "      <td>53149.942412</td>\n",
       "      <td>5.194186</td>\n",
       "      <td>A</td>\n",
       "    </tr>\n",
       "    <tr>\n",
       "      <th>1095</th>\n",
       "      <td>72.659587</td>\n",
       "      <td>-1.833548</td>\n",
       "      <td>-3.904537</td>\n",
       "      <td>-1.363542</td>\n",
       "      <td>-1.677820</td>\n",
       "      <td>12.989068</td>\n",
       "      <td>-1.698371</td>\n",
       "      <td>7.498550</td>\n",
       "      <td>-0.229605</td>\n",
       "      <td>11.134744</td>\n",
       "      <td>1.339612</td>\n",
       "      <td>1.639072</td>\n",
       "      <td>53149.942412</td>\n",
       "      <td>1.424686</td>\n",
       "      <td>A</td>\n",
       "    </tr>\n",
       "    <tr>\n",
       "      <th>1130</th>\n",
       "      <td>72.659587</td>\n",
       "      <td>-1.833548</td>\n",
       "      <td>-3.904537</td>\n",
       "      <td>-1.363542</td>\n",
       "      <td>-1.682980</td>\n",
       "      <td>13.528059</td>\n",
       "      <td>-1.698371</td>\n",
       "      <td>7.498550</td>\n",
       "      <td>-0.229605</td>\n",
       "      <td>15.689672</td>\n",
       "      <td>1.339612</td>\n",
       "      <td>1.253648</td>\n",
       "      <td>53149.942412</td>\n",
       "      <td>3.475492</td>\n",
       "      <td>A</td>\n",
       "    </tr>\n",
       "    <tr>\n",
       "      <th>1294</th>\n",
       "      <td>80.965641</td>\n",
       "      <td>-1.833548</td>\n",
       "      <td>-3.904537</td>\n",
       "      <td>-1.363542</td>\n",
       "      <td>-1.672667</td>\n",
       "      <td>18.683316</td>\n",
       "      <td>-1.698371</td>\n",
       "      <td>6.489261</td>\n",
       "      <td>-0.229605</td>\n",
       "      <td>16.859660</td>\n",
       "      <td>1.339612</td>\n",
       "      <td>1.956520</td>\n",
       "      <td>53149.942412</td>\n",
       "      <td>2.929005</td>\n",
       "      <td>A</td>\n",
       "    </tr>\n",
       "    <tr>\n",
       "      <th>860</th>\n",
       "      <td>79.934792</td>\n",
       "      <td>-1.833548</td>\n",
       "      <td>-3.904537</td>\n",
       "      <td>-1.363542</td>\n",
       "      <td>-1.677820</td>\n",
       "      <td>23.518328</td>\n",
       "      <td>-1.698371</td>\n",
       "      <td>7.498550</td>\n",
       "      <td>-0.229605</td>\n",
       "      <td>10.958094</td>\n",
       "      <td>1.339612</td>\n",
       "      <td>0.752864</td>\n",
       "      <td>53149.942412</td>\n",
       "      <td>1.122632</td>\n",
       "      <td>A</td>\n",
       "    </tr>\n",
       "  </tbody>\n",
       "</table>\n",
       "<p>1690 rows × 15 columns</p>\n",
       "</div>"
      ],
      "text/plain": [
       "      baseline_value  accelerations  fetal_movement  uterine_contractions  \\\n",
       "1491       76.829840      -1.833548       -3.904537             -1.363542   \n",
       "1105       72.659587      -1.833548       -3.904537             -1.363542   \n",
       "162        72.659587      -1.833548       -3.904537             -1.363542   \n",
       "1553       84.557990      -1.833548       -3.904537             -1.363542   \n",
       "1607       83.021340      -1.833548       -3.904537             -1.363542   \n",
       "...              ...            ...             ...                   ...   \n",
       "1638       77.866926      -1.833548       -3.904537             -1.363542   \n",
       "1095       72.659587      -1.833548       -3.904537             -1.363542   \n",
       "1130       72.659587      -1.833548       -3.904537             -1.363542   \n",
       "1294       80.965641      -1.833548       -3.904537             -1.363542   \n",
       "860        79.934792      -1.833548       -3.904537             -1.363542   \n",
       "\n",
       "      light_decelerations  abnormal_short_term_variability  \\\n",
       "1491            -1.677820                        21.615679   \n",
       "1105            -1.677820                        15.637316   \n",
       "162             -1.677820                        18.683316   \n",
       "1553            -1.677820                        26.305597   \n",
       "1607            -1.654421                        33.422585   \n",
       "...                   ...                              ...   \n",
       "1638            -1.623717                        29.915487   \n",
       "1095            -1.677820                        12.989068   \n",
       "1130            -1.682980                        13.528059   \n",
       "1294            -1.672667                        18.683316   \n",
       "860             -1.677820                        23.518328   \n",
       "\n",
       "      mean_value_of_short_term_variability  \\\n",
       "1491                             -1.698371   \n",
       "1105                             -1.698371   \n",
       "162                              -1.698371   \n",
       "1553                             -1.698371   \n",
       "1607                             -1.698371   \n",
       "...                                    ...   \n",
       "1638                             -1.698371   \n",
       "1095                             -1.698371   \n",
       "1130                             -1.698371   \n",
       "1294                             -1.698371   \n",
       "860                              -1.698371   \n",
       "\n",
       "      percentage_of_time_with_abnormal_long_term_variability  \\\n",
       "1491                                           7.498550        \n",
       "1105                                           2.072439        \n",
       "162                                            5.280009        \n",
       "1553                                           0.842500        \n",
       "1607                                           7.498550        \n",
       "...                                                 ...        \n",
       "1638                                           7.498550        \n",
       "1095                                           7.498550        \n",
       "1130                                           7.498550        \n",
       "1294                                           6.489261        \n",
       "860                                            7.498550        \n",
       "\n",
       "      mean_value_of_long_term_variability  histogram_width  histogram_max  \\\n",
       "1491                            -0.229605        13.413574       1.339612   \n",
       "1105                            -0.229605         9.456557       1.339612   \n",
       "162                             -0.229605        15.146484       1.339612   \n",
       "1553                            -0.229605        10.958094       1.339612   \n",
       "1607                            -0.746032        23.892121       1.339612   \n",
       "...                                   ...              ...            ...   \n",
       "1638                            -0.229605        21.207673       1.339612   \n",
       "1095                            -0.229605        11.134744       1.339612   \n",
       "1130                            -0.229605        15.689672       1.339612   \n",
       "1294                            -0.229605        16.859660       1.339612   \n",
       "860                             -0.229605        10.958094       1.339612   \n",
       "\n",
       "      histogram_number_of_peaks  histogram_mode  histogram_variance  \\\n",
       "1491                   2.228554    53149.942412            1.424686   \n",
       "1105                   0.000000    53149.942412            1.122632   \n",
       "162                    0.752864    53149.942412            1.424686   \n",
       "1553                   0.752864    53149.942412            0.702658   \n",
       "1607                   2.877034    53149.942412            4.318061   \n",
       "...                         ...             ...                 ...   \n",
       "1638                   1.956520    53149.942412            5.194186   \n",
       "1095                   1.639072    53149.942412            1.424686   \n",
       "1130                   1.253648    53149.942412            3.475492   \n",
       "1294                   1.956520    53149.942412            2.929005   \n",
       "860                    0.752864    53149.942412            1.122632   \n",
       "\n",
       "     fetal_health  \n",
       "1491            A  \n",
       "1105            A  \n",
       "162             A  \n",
       "1553            A  \n",
       "1607            A  \n",
       "...           ...  \n",
       "1638            A  \n",
       "1095            A  \n",
       "1130            A  \n",
       "1294            A  \n",
       "860             A  \n",
       "\n",
       "[1690 rows x 15 columns]"
      ]
     },
     "execution_count": 11,
     "metadata": {},
     "output_type": "execute_result"
    }
   ],
   "source": [
    "upsample = pd.concat([X_train, y_train], axis =1)\n",
    "upsample"
   ]
  },
  {
   "cell_type": "code",
   "execution_count": 13,
   "id": "c7242d3a",
   "metadata": {},
   "outputs": [],
   "source": [
    "A = upsample[upsample['fetal_health'] == 'A'].sample(1300) # needs the replace because it has less than 400 rows\n",
    "B = upsample[upsample['fetal_health'] == 'B'].sample(1300, replace=True)\n",
    "C = upsample[upsample['fetal_health'] == 'C'].sample(1300, replace=True)\n",
    "\n",
    "upsampled_df = pd.concat([A, B, C]).sample(frac=1) # .sample(frac=1) here is just to shuffle the dataframe\n"
   ]
  },
  {
   "cell_type": "code",
   "execution_count": 14,
   "id": "1352b952",
   "metadata": {},
   "outputs": [
    {
     "data": {
      "text/plain": [
       "(3900, 15)"
      ]
     },
     "execution_count": 14,
     "metadata": {},
     "output_type": "execute_result"
    }
   ],
   "source": [
    "upsampled_df.shape"
   ]
  },
  {
   "cell_type": "code",
   "execution_count": 16,
   "id": "e74fdc5e",
   "metadata": {},
   "outputs": [
    {
     "data": {
      "text/plain": [
       "B    1300\n",
       "C    1300\n",
       "A    1300\n",
       "Name: fetal_health, dtype: int64"
      ]
     },
     "execution_count": 16,
     "metadata": {},
     "output_type": "execute_result"
    }
   ],
   "source": [
    "upsampled_df['fetal_health'].value_counts()"
   ]
  },
  {
   "cell_type": "code",
   "execution_count": 17,
   "id": "e887e75f",
   "metadata": {},
   "outputs": [],
   "source": [
    "X_train_up = upsampled_df.drop(['fetal_health'], axis =1)\n",
    "y_train_up = upsampled_df['fetal_health']"
   ]
  },
  {
   "cell_type": "markdown",
   "id": "464a2731",
   "metadata": {},
   "source": [
    "### Scaling the numericals and save the transformation file"
   ]
  },
  {
   "cell_type": "code",
   "execution_count": 19,
   "id": "5ba26eff",
   "metadata": {},
   "outputs": [],
   "source": [
    "transformer = StandardScaler().fit(X_train_up)\n",
    "x_standardized = transformer.transform(X_train_up)"
   ]
  },
  {
   "cell_type": "code",
   "execution_count": 20,
   "id": "5c8a8619",
   "metadata": {},
   "outputs": [],
   "source": [
    "transformer = StandardScaler().fit(X_test)\n",
    "x_standardized = transformer.transform(X_test)"
   ]
  },
  {
   "cell_type": "code",
   "execution_count": 21,
   "id": "2f672a34",
   "metadata": {},
   "outputs": [
    {
     "data": {
      "text/plain": [
       "((3900, 14), (423, 14))"
      ]
     },
     "execution_count": 21,
     "metadata": {},
     "output_type": "execute_result"
    }
   ],
   "source": [
    "X_train_up.shape, X_test.shape"
   ]
  },
  {
   "cell_type": "markdown",
   "id": "ddae4e10",
   "metadata": {},
   "source": [
    "## Model evaluation of upsampling metrix\n",
    "Here we will test on Logistic Regression, KNN and Random Forest\n",
    "\n",
    "### Logistic regression"
   ]
  },
  {
   "cell_type": "code",
   "execution_count": null,
   "id": "eaa52fa9",
   "metadata": {},
   "outputs": [],
   "source": []
  },
  {
   "cell_type": "code",
   "execution_count": 22,
   "id": "b34471f7",
   "metadata": {},
   "outputs": [],
   "source": [
    "def model_comparison(X, y, K_value):\n",
    "    \n",
    "    print('Comparison 1. Logistic regression')\n",
    "    # Logistic regression: accuracy score\n",
    "    classification = LogisticRegression(random_state=42, max_iter=10000)\n",
    "    classification.fit(X, y)\n",
    "    \n",
    "    print('1) Logistic regression score:', classification.score(X_test, y_test))\n",
    "    \n",
    "    # Confusion metrix\n",
    "    print('2) Confustion metrix:')\n",
    "    predictions = classification.predict(X_test)\n",
    "    print(confusion_matrix(y_test, predictions))\n",
    "    \n",
    "    # Plot confusion metrix\n",
    "    print('3) Confustion metrix plot: see bottom plot')\n",
    "    cf_matrix = confusion_matrix(y_test, predictions)\n",
    "    group_names = ['True A', 'False A', 'False A',\n",
    "               'False B', 'True B', 'False B',\n",
    "               'False C', 'False C', 'True C']\n",
    "\n",
    "    group_counts = [\"{0:0.0f}\".format(value) for value in cf_matrix.flatten()]\n",
    "    group_percentages = [\"{0:.2%}\".format(value) for value in cf_matrix.flatten()/np.sum(cf_matrix)]\n",
    "    labels = [f\"{v1}\\n{v2}\\n{v3}\" for v1, v2, v3 in zip(group_names,group_counts,group_percentages)]\n",
    "    labels = np.asarray(labels).reshape(3,3)\n",
    "    print(sns.heatmap(cf_matrix, annot=labels, fmt='', cmap='Blues'))\n",
    "    \n",
    "    print('4) Classification report:')\n",
    "    print(classification_report(y_test, classification.predict(X_test)))\n",
    "    \n",
    "    \n",
    "    print('Comparison 2. KNN Classifier')\n",
    "    model = KNeighborsClassifier(n_neighbors= K_value)\n",
    "    model.fit(X, y)\n",
    "    \n",
    "    print('1) KNN Classifier accuracy score:')\n",
    "    y_pred = model.predict(X_test)\n",
    "    print(metrics.accuracy_score(y_test, y_pred))\n",
    "    \n",
    "    print('2) Confusion metrix:')\n",
    "    predictions_knn = model.predict(X_test)\n",
    "    confusion_matrix(y_test, predictions_knn)\n",
    "    \n",
    "    \n",
    "    print('3) Classification report') \n",
    "    print(classification_report(y_test, model.predict(X_test)))\n",
    "    \n",
    "    print('3) Comparison 3. Decision Tree')\n",
    "    model = DecisionTreeClassifier()\n",
    "    model.fit(X, y)\n",
    "    print(model.score(X_test, y_test))\n",
    "    \n",
    "    \n",
    "    \n"
   ]
  },
  {
   "cell_type": "code",
   "execution_count": 23,
   "id": "12558d89",
   "metadata": {
    "scrolled": true
   },
   "outputs": [
    {
     "name": "stdout",
     "output_type": "stream",
     "text": [
      "Comparison 1. Logistic regression\n",
      "1) Logistic regression score: 0.6619385342789598\n",
      "2) Confustion metrix:\n",
      "[[225  52  64]\n",
      " [  5  36  13]\n",
      " [  3   6  19]]\n",
      "3) Confustion metrix plot: see bottom plot\n",
      "AxesSubplot(0.125,0.125;0.62x0.755)\n",
      "4) Classification report:\n",
      "              precision    recall  f1-score   support\n",
      "\n",
      "           A       0.97      0.66      0.78       341\n",
      "           B       0.38      0.67      0.49        54\n",
      "           C       0.20      0.68      0.31        28\n",
      "\n",
      "    accuracy                           0.66       423\n",
      "   macro avg       0.52      0.67      0.53       423\n",
      "weighted avg       0.84      0.66      0.71       423\n",
      "\n",
      "Comparison 2. KNN Classifier\n",
      "1) KNN Classifier accuracy score:\n",
      "0.7541371158392435\n",
      "2) Confusion metrix:\n",
      "3) Classification report\n",
      "              precision    recall  f1-score   support\n",
      "\n",
      "           A       0.97      0.74      0.84       341\n",
      "           B       0.44      0.80      0.57        54\n",
      "           C       0.38      0.89      0.54        28\n",
      "\n",
      "    accuracy                           0.75       423\n",
      "   macro avg       0.60      0.81      0.65       423\n",
      "weighted avg       0.86      0.75      0.78       423\n",
      "\n",
      "3) Comparison 3. Decision Tree\n",
      "0.8936170212765957\n"
     ]
    },
    {
     "data": {
      "image/png": "[encoded data removed]",
      "text/plain": [
       "<Figure size 432x288 with 2 Axes>"
      ]
     },
     "metadata": {
      "needs_background": "light"
     },
     "output_type": "display_data"
    }
   ],
   "source": [
    "model_comparison(X_train_up, y_train_up, 15)"
   ]
  },
  {
   "cell_type": "markdown",
   "id": "5cef5c43",
   "metadata": {},
   "source": [
    "### KNN-Algorithm"
   ]
  },
  {
   "cell_type": "markdown",
   "id": "4c59bfde",
   "metadata": {},
   "source": [
    "#### Hyperparatemer: find the perfect K value"
   ]
  },
  {
   "cell_type": "code",
   "execution_count": 24,
   "id": "8013fa00",
   "metadata": {},
   "outputs": [
    {
     "data": {
      "text/plain": [
       "[0.9125295508274232,\n",
       " 0.8723404255319149,\n",
       " 0.8297872340425532,\n",
       " 0.8132387706855791,\n",
       " 0.8037825059101655,\n",
       " 0.7801418439716312,\n",
       " 0.7612293144208038,\n",
       " 0.7541371158392435,\n",
       " 0.7635933806146572,\n",
       " 0.7706855791962175]"
      ]
     },
     "execution_count": 24,
     "metadata": {},
     "output_type": "execute_result"
    }
   ],
   "source": [
    "scores = []\n",
    "for i in range(1,20,2):\n",
    "    model = KNeighborsClassifier(n_neighbors=i)\n",
    "    model.fit(X_train_up, y_train_up)\n",
    "    y_pred = model.predict(X_test)\n",
    "    scores.append((metrics.accuracy_score(y_test, y_pred)))\n",
    "scores"
   ]
  },
  {
   "cell_type": "code",
   "execution_count": 25,
   "id": "7b5f6fe2",
   "metadata": {
    "scrolled": true
   },
   "outputs": [
    {
     "data": {
      "text/plain": [
       "Text(0, 0.5, 'Accuracy')"
      ]
     },
     "execution_count": 25,
     "metadata": {},
     "output_type": "execute_result"
    },
    {
     "data": {
      "image/png": "[encoded data removed]",
      "text/plain": [
       "<Figure size 1152x576 with 1 Axes>"
      ]
     },
     "metadata": {
      "needs_background": "light"
     },
     "output_type": "display_data"
    }
   ],
   "source": [
    "plt.figure(figsize=(16,8))\n",
    "plt.plot(range(1,20,2),scores,color = 'blue', linestyle='dashed',\n",
    "         marker='o', markerfacecolor='red', markersize=10)\n",
    "plt.title('accuracy scores vs. K Value')\n",
    "plt.xlabel('K')\n",
    "plt.ylabel('Accuracy')"
   ]
  },
  {
   "cell_type": "code",
   "execution_count": 26,
   "id": "5851a9d3",
   "metadata": {},
   "outputs": [],
   "source": [
    "def model_knn_classifier(X, y, K_value):\n",
    "    model = KNeighborsClassifier(n_neighbors= K_value)\n",
    "    model.fit(X, y)\n",
    "    \n",
    "    print('1) KNN Classifier accuracy score:')\n",
    "    y_pred = model.predict(X_test)\n",
    "    print(metrics.accuracy_score(y_test, y_pred))\n",
    "    \n",
    "    print('2) Confusion metrix:')\n",
    "    predictions_knn = model.predict(X_test)\n",
    "    confusion_matrix(y_test, predictions_knn)\n",
    "    \n",
    "    \n",
    "    print('3) Classification report') \n",
    "    print(classification_report(y_test, model.predict(X_test)))"
   ]
  },
  {
   "cell_type": "markdown",
   "id": "a9c58691",
   "metadata": {},
   "source": [
    "### Apply into KNN model\n",
    "Use funtion from .py file"
   ]
  },
  {
   "cell_type": "code",
   "execution_count": 28,
   "id": "fe8fc48a",
   "metadata": {},
   "outputs": [
    {
     "name": "stdout",
     "output_type": "stream",
     "text": [
      "1) KNN Classifier accuracy score:\n",
      "0.8297872340425532\n",
      "2) Confusion metrix:\n",
      "3) Classification report\n",
      "              precision    recall  f1-score   support\n",
      "\n",
      "           A       0.96      0.84      0.90       341\n",
      "           B       0.46      0.76      0.57        54\n",
      "           C       0.66      0.82      0.73        28\n",
      "\n",
      "    accuracy                           0.83       423\n",
      "   macro avg       0.69      0.81      0.73       423\n",
      "weighted avg       0.88      0.83      0.85       423\n",
      "\n"
     ]
    }
   ],
   "source": [
    "model_knn_classifier(X_train_up, y_train_up, 5)"
   ]
  },
  {
   "cell_type": "markdown",
   "id": "d9dd1551",
   "metadata": {},
   "source": [
    "### Decision Tree"
   ]
  },
  {
   "cell_type": "code",
   "execution_count": null,
   "id": "0802c661",
   "metadata": {},
   "outputs": [],
   "source": [
    "#def model_decision_tree():\n",
    " #   model = DecisionTreeClassifier()\n",
    "  #  model.fit(X_train, y_train)\n",
    "   # print(model.score(X_test, y_test))\n",
    "    "
   ]
  },
  {
   "cell_type": "code",
   "execution_count": 29,
   "id": "04cf1f9e",
   "metadata": {},
   "outputs": [],
   "source": [
    "model = DecisionTreeClassifier()\n"
   ]
  },
  {
   "cell_type": "code",
   "execution_count": 30,
   "id": "44e10ade",
   "metadata": {},
   "outputs": [
    {
     "data": {
      "text/plain": [
       "DecisionTreeClassifier()"
      ]
     },
     "execution_count": 30,
     "metadata": {},
     "output_type": "execute_result"
    }
   ],
   "source": [
    "model.fit(X_train_up, y_train_up)\n"
   ]
  },
  {
   "cell_type": "code",
   "execution_count": 31,
   "id": "fb348fe4",
   "metadata": {},
   "outputs": [
    {
     "data": {
      "text/plain": [
       "0.900709219858156"
      ]
     },
     "execution_count": 31,
     "metadata": {},
     "output_type": "execute_result"
    }
   ],
   "source": [
    "model.score(X_test, y_test)"
   ]
  },
  {
   "cell_type": "code",
   "execution_count": 32,
   "id": "97ad50d2",
   "metadata": {
    "scrolled": true
   },
   "outputs": [
    {
     "data": {
      "text/plain": [
       "array([0.23893466, 0.01126444, 0.        , 0.        , 0.04108203,\n",
       "       0.33581149, 0.        , 0.03484901, 0.00073943, 0.11538099,\n",
       "       0.        , 0.04852768, 0.        , 0.17341027])"
      ]
     },
     "execution_count": 32,
     "metadata": {},
     "output_type": "execute_result"
    }
   ],
   "source": [
    "model.feature_importances_\n"
   ]
  },
  {
   "cell_type": "markdown",
   "id": "c89ecbdf",
   "metadata": {},
   "source": [
    "### Random Forest"
   ]
  },
  {
   "cell_type": "code",
   "execution_count": 33,
   "id": "a0b5caed",
   "metadata": {},
   "outputs": [
    {
     "name": "stdout",
     "output_type": "stream",
     "text": [
      "0.8463356973995272\n"
     ]
    }
   ],
   "source": [
    "clf = RandomForestClassifier(max_depth = 5, random_state = 0)\n",
    "clf.fit(X_train_up, y_train_up)\n",
    "print(clf.score(X_test, y_test))"
   ]
  }
 ],
 "metadata": {
  "kernelspec": {
   "display_name": "Python 3",
   "language": "python",
   "name": "python3"
  },
  "language_info": {
   "codemirror_mode": {
    "name": "ipython",
    "version": 3
   },
   "file_extension": ".py",
   "mimetype": "text/x-python",
   "name": "python",
   "nbconvert_exporter": "python",
   "pygments_lexer": "ipython3",
   "version": "3.8.8"
  },
  "toc": {
   "base_numbering": 1,
   "nav_menu": {},
   "number_sections": true,
   "sideBar": true,
   "skip_h1_title": false,
   "title_cell": "Table of Contents",
   "title_sidebar": "Contents",
   "toc_cell": false,
   "toc_position": {
    "height": "calc(100% - 180px)",
    "left": "10px",
    "top": "150px",
    "width": "165px"
   },
   "toc_section_display": true,
   "toc_window_display": true
  }
 },
 "nbformat": 4,
 "nbformat_minor": 5
}
